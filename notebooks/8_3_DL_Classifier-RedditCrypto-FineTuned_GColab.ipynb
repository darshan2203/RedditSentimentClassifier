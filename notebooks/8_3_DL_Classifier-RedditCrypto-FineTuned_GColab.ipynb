{
 "cells": [
  {
   "cell_type": "markdown",
   "id": "c39b2cad-1c26-485b-8046-1e39b51b61d5",
   "metadata": {},
   "source": [
    "# Reddit Sentiment Classification on manually finetuned model (StockTwits-Crypto Sentiment DS)"
   ]
  },
  {
   "cell_type": "markdown",
   "id": "07886ffe-c1d5-4991-9298-02b7db420cce",
   "metadata": {},
   "source": [
    "## Configurations\n",
    "\n",
    "Let's first simply use the pretrained model to see baseline performance of LLM.\n",
    "    \n",
    "    1. Using \"checkpoint-2400\" from previously finetuning output.\n",
    "    2. Its finetuned on StockTwits-Crypto Sentiment Dataset (Link - https://huggingface.co/datasets/ElKulako/stocktwits-crypto)\n",
    "    3. Total Number of Params - 67 MN\n",
    "    4. Class Labels - 0: Negative 1: Positive"
   ]
  },
  {
   "cell_type": "markdown",
   "id": "5962ce72-d78a-486d-a9e9-a476e6baa90e",
   "metadata": {},
   "source": [
    "## Obeservations from Result\n",
    "\n",
    "- We established the baseline performance in the notebook __8_1_DL_Classifier-RedditCrypto-BaseLine.ipynb__ which yieled __~72%__ _Accuracy_ with _F1 Score_ of __~0.72__ (Weighted Average)\n",
    "- Then we finetuned this model using __StockTwits-Crypto Sentiment__ Dataset in Notebook, __8_2_DL_Classifier-RedditCrypto-FineTuning_GoogleColab.ipynb__.\n",
    "- Here I've simply written an evaluation script to test the model on out Reddit Crypto Comments Sentiments.\n",
    "- It turned out that Model now yields __~85%__ of _accuracy_.\n",
    "    - _F1 Score_ for _Negative_ Class: __0.85__ \n",
    "    - _F1 Score_ for _Positive_ Class: __0.86__\n",
    "- For more detail results, please have a look at __Evaluation Results__ Section."
   ]
  },
  {
   "cell_type": "markdown",
   "id": "9d619b28-6cff-4b8b-b98e-1ee5172ba2cf",
   "metadata": {},
   "source": [
    "## Areas of Further Improvements\n",
    "\n",
    "- To achieve more than __90%__ accuracy,\n",
    "\n",
    "    - Given more time & resources, I can further \n",
    "        - train the same model with __more data__ (> (100K) samples). \n",
    "        - train for __more number of epochs__.\n",
    "    - Can __finetune the model__ on Reddit Posts from Crypto related boards for __MLM task__."
   ]
  },
  {
   "cell_type": "markdown",
   "id": "e83c1804-0caf-42a1-b0f7-e5bf2544be33",
   "metadata": {},
   "source": [
    "## Importing Common Packages"
   ]
  },
  {
   "cell_type": "code",
   "execution_count": 1,
   "id": "6415fd74-170e-48e0-95b7-fb134c6bcf44",
   "metadata": {},
   "outputs": [
    {
     "name": "stderr",
     "output_type": "stream",
     "text": [
      "C:\\Users\\darsh\\AppData\\Local\\Temp\\ipykernel_15824\\894766657.py:3: DeprecationWarning: Using or importing the ABCs from 'collections' instead of from 'collections.abc' is deprecated since Python 3.3, and in 3.10 it will stop working\n",
      "  from collections import Collection\n"
     ]
    }
   ],
   "source": [
    "import pandas as pd\n",
    "import numpy as np\n",
    "from collections import Collection\n",
    "import re,string,unicodedata\n",
    "import contractions\n",
    "import html"
   ]
  },
  {
   "cell_type": "code",
   "execution_count": 2,
   "id": "3aba3b43-65e5-4ba7-abe8-9638d2ae4444",
   "metadata": {},
   "outputs": [],
   "source": [
    "from sklearn import metrics\n",
    "import seaborn as sns\n",
    "import matplotlib.pyplot as plt"
   ]
  },
  {
   "cell_type": "markdown",
   "id": "3a35f158-14a5-48d4-b6ab-833d3cb4df61",
   "metadata": {},
   "source": [
    "## Utility Functions"
   ]
  },
  {
   "cell_type": "code",
   "execution_count": 3,
   "id": "36713ab7-13c3-471c-a264-e50d66f83954",
   "metadata": {},
   "outputs": [],
   "source": [
    "def plot_confusion_matrix(test_y, predict_y):\n",
    "    C = metrics.confusion_matrix(test_y, predict_y)\n",
    "    missclassified_pts = (len(test_y)-np.trace(C))/len(test_y)*100\n",
    "    print(\"Number of misclassified points -\",np.round(missclassified_pts, 2),\"%\")\n",
    "    # C = 2,2 matrix, each cell (i,j) represents number of points of class i are predicted class j\n",
    "    # The predictions are along the columns of the confusion matrix whereas the actual values are along the rows of confusion matrix.\n",
    "    \n",
    "    A =(((C.T)/(C.sum(axis=1))).T)\n",
    "        \n",
    "    B =(C/C.sum(axis=0))\n",
    "        \n",
    "    labels = [0,1]\n",
    "    cmap=sns.light_palette(\"green\")\n",
    "    # representing A in heatmap format\n",
    "    #print(\"-\"*50, \"Confusion matrix\", \"-\"*50)\n",
    "    plt.figure(figsize=(20,4))\n",
    "    plt.subplot(1, 3, 1)\n",
    "    sns.heatmap(C, annot=True, cmap=cmap, fmt=\".3f\", xticklabels=labels, yticklabels=labels)\n",
    "    plt.xlabel('Predicted Class')\n",
    "    plt.ylabel('Original Class')\n",
    "    plt.title(\"Confusion matrix\")\n",
    "    #plt.show()\n",
    "\n",
    "    #print(\"-\"*50, \"Precision matrix\", \"-\"*50)\n",
    "    #plt.figure(figsize=(10,5))\n",
    "    plt.subplot(1, 3, 2)\n",
    "    sns.heatmap(B, annot=True, cmap=cmap, fmt=\".3f\", xticklabels=labels, yticklabels=labels)\n",
    "    plt.xlabel('Predicted Class')\n",
    "    plt.ylabel('Original Class')\n",
    "    plt.title(\"Precision matrix\")\n",
    "    #plt.show()\n",
    "    #print(\"Sum of columns in precision matrix\",B.sum(axis=0))\n",
    "    \n",
    "    # representing B in heatmap format\n",
    "    #print(\"-\"*50, \"Recall matrix\"    , \"-\"*50)\n",
    "    #plt.figure(figsize=(10,5))\n",
    "    plt.subplot(1, 3, 3)\n",
    "    sns.heatmap(A, annot=True, cmap=cmap, fmt=\".3f\", xticklabels=labels, yticklabels=labels)\n",
    "    plt.xlabel('Predicted Class')\n",
    "    plt.ylabel('Original Class')\n",
    "    plt.title(\"Recall matrix\")\n",
    "    #plt.show()\n",
    "    #print(\"Sum of rows in Recall matrix\",A.sum(axis=1))"
   ]
  },
  {
   "cell_type": "markdown",
   "id": "29df2a48-4ffc-42e7-87c9-94f47f18cf88",
   "metadata": {},
   "source": [
    "## Minimal Data PreProcessing"
   ]
  },
  {
   "cell_type": "code",
   "execution_count": 4,
   "id": "07e5dcaf-afae-4afc-97ea-4c6b21e3db4d",
   "metadata": {},
   "outputs": [
    {
     "data": {
      "text/html": [
       "<div>\n",
       "<style scoped>\n",
       "    .dataframe tbody tr th:only-of-type {\n",
       "        vertical-align: middle;\n",
       "    }\n",
       "\n",
       "    .dataframe tbody tr th {\n",
       "        vertical-align: top;\n",
       "    }\n",
       "\n",
       "    .dataframe thead th {\n",
       "        text-align: right;\n",
       "    }\n",
       "</style>\n",
       "<table border=\"1\" class=\"dataframe\">\n",
       "  <thead>\n",
       "    <tr style=\"text-align: right;\">\n",
       "      <th></th>\n",
       "      <th>worker_id</th>\n",
       "      <th>is_reviewed</th>\n",
       "      <th>review_score</th>\n",
       "      <th>Comment Text</th>\n",
       "      <th>Sentiment</th>\n",
       "      <th>Reddit URL</th>\n",
       "    </tr>\n",
       "  </thead>\n",
       "  <tbody>\n",
       "    <tr>\n",
       "      <th>0</th>\n",
       "      <td>XYNN2Y4VCF3G</td>\n",
       "      <td>False</td>\n",
       "      <td>NaN</td>\n",
       "      <td>I bought 2200 at the ico, at 0.50$ per coin. H...</td>\n",
       "      <td>Positive</td>\n",
       "      <td>https://www.reddit.com/r/Avax/comments/uzggar/...</td>\n",
       "    </tr>\n",
       "    <tr>\n",
       "      <th>1</th>\n",
       "      <td>DR6XNZMT9KRH</td>\n",
       "      <td>False</td>\n",
       "      <td>NaN</td>\n",
       "      <td>Harmony one , algorand , Cardano, solana , vec...</td>\n",
       "      <td>Positive</td>\n",
       "      <td>https://www.reddit.com/r/CryptoCurrency/commen...</td>\n",
       "    </tr>\n",
       "    <tr>\n",
       "      <th>2</th>\n",
       "      <td>9FCQGMYD4A42</td>\n",
       "      <td>False</td>\n",
       "      <td>NaN</td>\n",
       "      <td>Honestly, after reading this post and many of ...</td>\n",
       "      <td>Negative</td>\n",
       "      <td>https://www.reddit.com/r/CryptoCurrency/commen...</td>\n",
       "    </tr>\n",
       "    <tr>\n",
       "      <th>3</th>\n",
       "      <td>QEZAEMV2WF9D</td>\n",
       "      <td>False</td>\n",
       "      <td>NaN</td>\n",
       "      <td>In bear market is where money is made. I Will ...</td>\n",
       "      <td>Positive</td>\n",
       "      <td>https://www.reddit.com/r/CryptoCurrency/commen...</td>\n",
       "    </tr>\n",
       "    <tr>\n",
       "      <th>4</th>\n",
       "      <td>Z7J7W3XCP4XC</td>\n",
       "      <td>False</td>\n",
       "      <td>NaN</td>\n",
       "      <td>Funny how people think Bitcoin's risk is compa...</td>\n",
       "      <td>Negative</td>\n",
       "      <td>https://www.reddit.com/r/investing/comments/um...</td>\n",
       "    </tr>\n",
       "    <tr>\n",
       "      <th>...</th>\n",
       "      <td>...</td>\n",
       "      <td>...</td>\n",
       "      <td>...</td>\n",
       "      <td>...</td>\n",
       "      <td>...</td>\n",
       "      <td>...</td>\n",
       "    </tr>\n",
       "    <tr>\n",
       "      <th>557</th>\n",
       "      <td>FM9FYY27VTVR</td>\n",
       "      <td>False</td>\n",
       "      <td>NaN</td>\n",
       "      <td>Lightning Network has the capability to do mil...</td>\n",
       "      <td>Positive</td>\n",
       "      <td>https://www.reddit.com/r/Bitcoin/comments/uzz7...</td>\n",
       "    </tr>\n",
       "    <tr>\n",
       "      <th>558</th>\n",
       "      <td>K94W3ATCZX2V</td>\n",
       "      <td>False</td>\n",
       "      <td>NaN</td>\n",
       "      <td>It means there will be more daily volume which...</td>\n",
       "      <td>Positive</td>\n",
       "      <td>https://www.reddit.com/r/Bitcoin/comments/v0fs...</td>\n",
       "    </tr>\n",
       "    <tr>\n",
       "      <th>559</th>\n",
       "      <td>W7APN9XYDRV6</td>\n",
       "      <td>False</td>\n",
       "      <td>NaN</td>\n",
       "      <td>The exchanges were so irresponsible to list th...</td>\n",
       "      <td>Negative</td>\n",
       "      <td>https://www.reddit.com/r/CryptoCurrency/commen...</td>\n",
       "    </tr>\n",
       "    <tr>\n",
       "      <th>560</th>\n",
       "      <td>MTCJYTYKKHZJ</td>\n",
       "      <td>False</td>\n",
       "      <td>NaN</td>\n",
       "      <td>Massive ecosystem. Pretty much all application...</td>\n",
       "      <td>Positive</td>\n",
       "      <td>https://www.reddit.com/r/CryptoCurrency/commen...</td>\n",
       "    </tr>\n",
       "    <tr>\n",
       "      <th>561</th>\n",
       "      <td>TWT79CJH69RG</td>\n",
       "      <td>False</td>\n",
       "      <td>NaN</td>\n",
       "      <td>I’m actually excited because I had cash on the...</td>\n",
       "      <td>Positive</td>\n",
       "      <td>https://www.reddit.com/r/CryptoCurrency/commen...</td>\n",
       "    </tr>\n",
       "  </tbody>\n",
       "</table>\n",
       "<p>562 rows × 6 columns</p>\n",
       "</div>"
      ],
      "text/plain": [
       "        worker_id  is_reviewed  review_score  \\\n",
       "0    XYNN2Y4VCF3G        False           NaN   \n",
       "1    DR6XNZMT9KRH        False           NaN   \n",
       "2    9FCQGMYD4A42        False           NaN   \n",
       "3    QEZAEMV2WF9D        False           NaN   \n",
       "4    Z7J7W3XCP4XC        False           NaN   \n",
       "..            ...          ...           ...   \n",
       "557  FM9FYY27VTVR        False           NaN   \n",
       "558  K94W3ATCZX2V        False           NaN   \n",
       "559  W7APN9XYDRV6        False           NaN   \n",
       "560  MTCJYTYKKHZJ        False           NaN   \n",
       "561  TWT79CJH69RG        False           NaN   \n",
       "\n",
       "                                          Comment Text Sentiment  \\\n",
       "0    I bought 2200 at the ico, at 0.50$ per coin. H...  Positive   \n",
       "1    Harmony one , algorand , Cardano, solana , vec...  Positive   \n",
       "2    Honestly, after reading this post and many of ...  Negative   \n",
       "3    In bear market is where money is made. I Will ...  Positive   \n",
       "4    Funny how people think Bitcoin's risk is compa...  Negative   \n",
       "..                                                 ...       ...   \n",
       "557  Lightning Network has the capability to do mil...  Positive   \n",
       "558  It means there will be more daily volume which...  Positive   \n",
       "559  The exchanges were so irresponsible to list th...  Negative   \n",
       "560  Massive ecosystem. Pretty much all application...  Positive   \n",
       "561  I’m actually excited because I had cash on the...  Positive   \n",
       "\n",
       "                                            Reddit URL  \n",
       "0    https://www.reddit.com/r/Avax/comments/uzggar/...  \n",
       "1    https://www.reddit.com/r/CryptoCurrency/commen...  \n",
       "2    https://www.reddit.com/r/CryptoCurrency/commen...  \n",
       "3    https://www.reddit.com/r/CryptoCurrency/commen...  \n",
       "4    https://www.reddit.com/r/investing/comments/um...  \n",
       "..                                                 ...  \n",
       "557  https://www.reddit.com/r/Bitcoin/comments/uzz7...  \n",
       "558  https://www.reddit.com/r/Bitcoin/comments/v0fs...  \n",
       "559  https://www.reddit.com/r/CryptoCurrency/commen...  \n",
       "560  https://www.reddit.com/r/CryptoCurrency/commen...  \n",
       "561  https://www.reddit.com/r/CryptoCurrency/commen...  \n",
       "\n",
       "[562 rows x 6 columns]"
      ]
     },
     "execution_count": 4,
     "metadata": {},
     "output_type": "execute_result"
    }
   ],
   "source": [
    "data_df = pd.read_csv(\"../data/crypto_reddit_sentiment.csv\")\n",
    "data_df"
   ]
  },
  {
   "cell_type": "code",
   "execution_count": 5,
   "id": "cc681073-3347-42bd-860d-bebd78f9391a",
   "metadata": {},
   "outputs": [
    {
     "data": {
      "text/html": [
       "<div>\n",
       "<style scoped>\n",
       "    .dataframe tbody tr th:only-of-type {\n",
       "        vertical-align: middle;\n",
       "    }\n",
       "\n",
       "    .dataframe tbody tr th {\n",
       "        vertical-align: top;\n",
       "    }\n",
       "\n",
       "    .dataframe thead th {\n",
       "        text-align: right;\n",
       "    }\n",
       "</style>\n",
       "<table border=\"1\" class=\"dataframe\">\n",
       "  <thead>\n",
       "    <tr style=\"text-align: right;\">\n",
       "      <th></th>\n",
       "      <th>text</th>\n",
       "      <th>sentiment</th>\n",
       "      <th>class</th>\n",
       "    </tr>\n",
       "  </thead>\n",
       "  <tbody>\n",
       "    <tr>\n",
       "      <th>0</th>\n",
       "      <td>I bought 2200 at the ico, at 0.50$ per coin. H...</td>\n",
       "      <td>POSITIVE</td>\n",
       "      <td>1</td>\n",
       "    </tr>\n",
       "    <tr>\n",
       "      <th>1</th>\n",
       "      <td>Harmony one , algorand , Cardano, solana , vec...</td>\n",
       "      <td>POSITIVE</td>\n",
       "      <td>1</td>\n",
       "    </tr>\n",
       "    <tr>\n",
       "      <th>2</th>\n",
       "      <td>Honestly, after reading this post and many of ...</td>\n",
       "      <td>NEGATIVE</td>\n",
       "      <td>0</td>\n",
       "    </tr>\n",
       "    <tr>\n",
       "      <th>3</th>\n",
       "      <td>In bear market is where money is made. I Will ...</td>\n",
       "      <td>POSITIVE</td>\n",
       "      <td>1</td>\n",
       "    </tr>\n",
       "    <tr>\n",
       "      <th>4</th>\n",
       "      <td>Funny how people think Bitcoin's risk is compa...</td>\n",
       "      <td>NEGATIVE</td>\n",
       "      <td>0</td>\n",
       "    </tr>\n",
       "    <tr>\n",
       "      <th>...</th>\n",
       "      <td>...</td>\n",
       "      <td>...</td>\n",
       "      <td>...</td>\n",
       "    </tr>\n",
       "    <tr>\n",
       "      <th>557</th>\n",
       "      <td>Lightning Network has the capability to do mil...</td>\n",
       "      <td>POSITIVE</td>\n",
       "      <td>1</td>\n",
       "    </tr>\n",
       "    <tr>\n",
       "      <th>558</th>\n",
       "      <td>It means there will be more daily volume which...</td>\n",
       "      <td>POSITIVE</td>\n",
       "      <td>1</td>\n",
       "    </tr>\n",
       "    <tr>\n",
       "      <th>559</th>\n",
       "      <td>The exchanges were so irresponsible to list th...</td>\n",
       "      <td>NEGATIVE</td>\n",
       "      <td>0</td>\n",
       "    </tr>\n",
       "    <tr>\n",
       "      <th>560</th>\n",
       "      <td>Massive ecosystem. Pretty much all application...</td>\n",
       "      <td>POSITIVE</td>\n",
       "      <td>1</td>\n",
       "    </tr>\n",
       "    <tr>\n",
       "      <th>561</th>\n",
       "      <td>I’m actually excited because I had cash on the...</td>\n",
       "      <td>POSITIVE</td>\n",
       "      <td>1</td>\n",
       "    </tr>\n",
       "  </tbody>\n",
       "</table>\n",
       "<p>562 rows × 3 columns</p>\n",
       "</div>"
      ],
      "text/plain": [
       "                                                  text sentiment  class\n",
       "0    I bought 2200 at the ico, at 0.50$ per coin. H...  POSITIVE      1\n",
       "1    Harmony one , algorand , Cardano, solana , vec...  POSITIVE      1\n",
       "2    Honestly, after reading this post and many of ...  NEGATIVE      0\n",
       "3    In bear market is where money is made. I Will ...  POSITIVE      1\n",
       "4    Funny how people think Bitcoin's risk is compa...  NEGATIVE      0\n",
       "..                                                 ...       ...    ...\n",
       "557  Lightning Network has the capability to do mil...  POSITIVE      1\n",
       "558  It means there will be more daily volume which...  POSITIVE      1\n",
       "559  The exchanges were so irresponsible to list th...  NEGATIVE      0\n",
       "560  Massive ecosystem. Pretty much all application...  POSITIVE      1\n",
       "561  I’m actually excited because I had cash on the...  POSITIVE      1\n",
       "\n",
       "[562 rows x 3 columns]"
      ]
     },
     "execution_count": 5,
     "metadata": {},
     "output_type": "execute_result"
    }
   ],
   "source": [
    "data_df.rename(columns={\"Comment Text\": \"text\", \"Sentiment\": \"sentiment\"}, inplace=True)\n",
    "data_df = data_df[[\"text\", \"sentiment\"]].copy(deep=True)\n",
    "data_df[\"sentiment\"] = data_df[\"sentiment\"].apply(lambda x: x.upper())\n",
    "data_df['class'] = np.where(data_df[\"sentiment\"] == \"NEGATIVE\", 0, 1)\n",
    "data_df"
   ]
  },
  {
   "cell_type": "code",
   "execution_count": 6,
   "id": "14cc10b5-a45b-4869-8f39-1b3ddbbe8381",
   "metadata": {},
   "outputs": [],
   "source": [
    "def lower_case(text):\n",
    "    return text.lower()"
   ]
  },
  {
   "cell_type": "code",
   "execution_count": 7,
   "id": "ae3a1d1c-fdda-4e5e-b139-b632adcab14a",
   "metadata": {},
   "outputs": [],
   "source": [
    "def remove_accented_chars(text):\n",
    "    text = unicodedata.normalize('NFKD', text).encode('ascii', 'ignore').decode('utf-8', 'ignore')\n",
    "    return text"
   ]
  },
  {
   "cell_type": "code",
   "execution_count": 8,
   "id": "465ac022-6989-41e8-9dd7-4bd9aac1de0a",
   "metadata": {},
   "outputs": [],
   "source": [
    "def remove_urls(text):\n",
    "    return re.sub(r'(https|http)?:\\/\\/(\\w|\\.|\\/|\\?|\\=|\\&|\\%)*\\b', '', text, flags=re.MULTILINE)"
   ]
  },
  {
   "cell_type": "code",
   "execution_count": 9,
   "id": "a890f6fc-5c5a-4a72-a6df-e8afdab24d09",
   "metadata": {},
   "outputs": [],
   "source": [
    "def fix_html(x:str) -> str:\n",
    "    \"List of replacements from html strings in `x`.\"\n",
    "    re1 = re.compile(r'  +')\n",
    "    x = x.replace('#39;', \"'\").replace('amp;', '&').replace('#146;', \"'\").replace(\n",
    "        'nbsp;', ' ').replace('#36;', '$').replace('\\\\n', \"\\n\").replace('quot;', \"'\").replace(\n",
    "        '<br />', \"\\n\").replace('\\\\\"', '\"').replace('<unk>', \"UNK\").replace(' @.@ ','.').replace(\n",
    "        ' @-@ ','-').replace(' @,@ ',',').replace('\\\\', ' \\\\ ')\n",
    "    return re1.sub(' ', html.unescape(x))"
   ]
  },
  {
   "cell_type": "code",
   "execution_count": 10,
   "id": "5314ff82-ddc4-49ac-82f0-d2ef2f6eff3d",
   "metadata": {},
   "outputs": [],
   "source": [
    "def remove_extra_lines(text):\n",
    "    return re.sub(r'\\n|\\r|\\t', ' ', text)"
   ]
  },
  {
   "cell_type": "code",
   "execution_count": 11,
   "id": "0c9b906e-9919-4b23-8568-aae2fd5f8e01",
   "metadata": {},
   "outputs": [],
   "source": [
    "def remove_useless_spaces(t:str) -> str:\n",
    "    \"Remove multiple spaces in `t`.\"\n",
    "    return re.sub(' {2,}', ' ', t)"
   ]
  },
  {
   "cell_type": "code",
   "execution_count": 12,
   "id": "0e5b130e-efd8-4493-b037-7e72b21d8067",
   "metadata": {},
   "outputs": [],
   "source": [
    "def replace_rep(t:str) -> str:\n",
    "    \"Replace repetitions at the character level in `t`.\"\n",
    "    def _replace_rep(m:Collection[str]) -> str:\n",
    "        c,cc = m.groups()\n",
    "        return f' {\"TK_REP\"} {len(cc)+1} {c} '\n",
    "    re_rep = re.compile(r'(\\S)(\\1{3,})')\n",
    "    return re_rep.sub(_replace_rep, t)"
   ]
  },
  {
   "cell_type": "code",
   "execution_count": 13,
   "id": "cc9ca49a-2960-40ec-872d-c5e60738680b",
   "metadata": {},
   "outputs": [],
   "source": [
    "#Function to expand contractions\n",
    "def expand_contractions(con_text):\n",
    "    con_text = contractions.fix(con_text)\n",
    "    return con_text"
   ]
  },
  {
   "cell_type": "code",
   "execution_count": 14,
   "id": "c90c5d53-80f3-4094-bd64-02f1d897487d",
   "metadata": {},
   "outputs": [
    {
     "data": {
      "text/html": [
       "<div>\n",
       "<style scoped>\n",
       "    .dataframe tbody tr th:only-of-type {\n",
       "        vertical-align: middle;\n",
       "    }\n",
       "\n",
       "    .dataframe tbody tr th {\n",
       "        vertical-align: top;\n",
       "    }\n",
       "\n",
       "    .dataframe thead th {\n",
       "        text-align: right;\n",
       "    }\n",
       "</style>\n",
       "<table border=\"1\" class=\"dataframe\">\n",
       "  <thead>\n",
       "    <tr style=\"text-align: right;\">\n",
       "      <th></th>\n",
       "      <th>sentiment</th>\n",
       "      <th>class</th>\n",
       "      <th>text</th>\n",
       "      <th>processed_text</th>\n",
       "    </tr>\n",
       "  </thead>\n",
       "  <tbody>\n",
       "    <tr>\n",
       "      <th>0</th>\n",
       "      <td>POSITIVE</td>\n",
       "      <td>1</td>\n",
       "      <td>I bought 2200 at the ico, at 0.50$ per coin. H...</td>\n",
       "      <td>i bought 2200 at the ico, at 0.50$ per coin. h...</td>\n",
       "    </tr>\n",
       "    <tr>\n",
       "      <th>1</th>\n",
       "      <td>POSITIVE</td>\n",
       "      <td>1</td>\n",
       "      <td>Harmony one , algorand , Cardano, solana , vec...</td>\n",
       "      <td>harmony one , algorand , cardano, solana , vec...</td>\n",
       "    </tr>\n",
       "    <tr>\n",
       "      <th>2</th>\n",
       "      <td>NEGATIVE</td>\n",
       "      <td>0</td>\n",
       "      <td>Honestly, after reading this post and many of ...</td>\n",
       "      <td>honestly, after reading this post and many of ...</td>\n",
       "    </tr>\n",
       "    <tr>\n",
       "      <th>3</th>\n",
       "      <td>POSITIVE</td>\n",
       "      <td>1</td>\n",
       "      <td>In bear market is where money is made. I Will ...</td>\n",
       "      <td>in bear market is where money is made. i will ...</td>\n",
       "    </tr>\n",
       "    <tr>\n",
       "      <th>4</th>\n",
       "      <td>NEGATIVE</td>\n",
       "      <td>0</td>\n",
       "      <td>Funny how people think Bitcoin's risk is compa...</td>\n",
       "      <td>funny how people think bitcoin's risk is compa...</td>\n",
       "    </tr>\n",
       "    <tr>\n",
       "      <th>...</th>\n",
       "      <td>...</td>\n",
       "      <td>...</td>\n",
       "      <td>...</td>\n",
       "      <td>...</td>\n",
       "    </tr>\n",
       "    <tr>\n",
       "      <th>557</th>\n",
       "      <td>POSITIVE</td>\n",
       "      <td>1</td>\n",
       "      <td>Lightning Network has the capability to do mil...</td>\n",
       "      <td>lightning network has the capability to do mil...</td>\n",
       "    </tr>\n",
       "    <tr>\n",
       "      <th>558</th>\n",
       "      <td>POSITIVE</td>\n",
       "      <td>1</td>\n",
       "      <td>It means there will be more daily volume which...</td>\n",
       "      <td>it means there will be more daily volume which...</td>\n",
       "    </tr>\n",
       "    <tr>\n",
       "      <th>559</th>\n",
       "      <td>NEGATIVE</td>\n",
       "      <td>0</td>\n",
       "      <td>The exchanges were so irresponsible to list th...</td>\n",
       "      <td>the exchanges were so irresponsible to list th...</td>\n",
       "    </tr>\n",
       "    <tr>\n",
       "      <th>560</th>\n",
       "      <td>POSITIVE</td>\n",
       "      <td>1</td>\n",
       "      <td>Massive ecosystem. Pretty much all application...</td>\n",
       "      <td>massive ecosystem. pretty much all application...</td>\n",
       "    </tr>\n",
       "    <tr>\n",
       "      <th>561</th>\n",
       "      <td>POSITIVE</td>\n",
       "      <td>1</td>\n",
       "      <td>I’m actually excited because I had cash on the...</td>\n",
       "      <td>i am actually excited because i had cash on th...</td>\n",
       "    </tr>\n",
       "  </tbody>\n",
       "</table>\n",
       "<p>562 rows × 4 columns</p>\n",
       "</div>"
      ],
      "text/plain": [
       "    sentiment  class                                               text  \\\n",
       "0    POSITIVE      1  I bought 2200 at the ico, at 0.50$ per coin. H...   \n",
       "1    POSITIVE      1  Harmony one , algorand , Cardano, solana , vec...   \n",
       "2    NEGATIVE      0  Honestly, after reading this post and many of ...   \n",
       "3    POSITIVE      1  In bear market is where money is made. I Will ...   \n",
       "4    NEGATIVE      0  Funny how people think Bitcoin's risk is compa...   \n",
       "..        ...    ...                                                ...   \n",
       "557  POSITIVE      1  Lightning Network has the capability to do mil...   \n",
       "558  POSITIVE      1  It means there will be more daily volume which...   \n",
       "559  NEGATIVE      0  The exchanges were so irresponsible to list th...   \n",
       "560  POSITIVE      1  Massive ecosystem. Pretty much all application...   \n",
       "561  POSITIVE      1  I’m actually excited because I had cash on the...   \n",
       "\n",
       "                                        processed_text  \n",
       "0    i bought 2200 at the ico, at 0.50$ per coin. h...  \n",
       "1    harmony one , algorand , cardano, solana , vec...  \n",
       "2    honestly, after reading this post and many of ...  \n",
       "3    in bear market is where money is made. i will ...  \n",
       "4    funny how people think bitcoin's risk is compa...  \n",
       "..                                                 ...  \n",
       "557  lightning network has the capability to do mil...  \n",
       "558  it means there will be more daily volume which...  \n",
       "559  the exchanges were so irresponsible to list th...  \n",
       "560  massive ecosystem. pretty much all application...  \n",
       "561  i am actually excited because i had cash on th...  \n",
       "\n",
       "[562 rows x 4 columns]"
      ]
     },
     "execution_count": 14,
     "metadata": {},
     "output_type": "execute_result"
    }
   ],
   "source": [
    "data_df[\"processed_text\"] = data_df[\"text\"].astype(str).apply(lambda text: lower_case(text))\n",
    "# data_df[\"processed_text\"] = data_df[\"processed_text\"].apply(lambda text: remove_accented_chars(text))\n",
    "data_df[\"processed_text\"] = data_df[\"processed_text\"].apply(lambda text: remove_urls(text))\n",
    "data_df[\"processed_text\"] = data_df[\"processed_text\"].apply(lambda text: fix_html(text))\n",
    "data_df[\"processed_text\"] = data_df[\"processed_text\"].apply(lambda text: remove_extra_lines(text))\n",
    "data_df[\"processed_text\"] = data_df[\"processed_text\"].apply(lambda text: remove_useless_spaces(text))\n",
    "data_df[\"processed_text\"] = data_df[\"processed_text\"].apply(lambda text: replace_rep(text))\n",
    "data_df[\"processed_text\"] = data_df[\"processed_text\"].apply(lambda text: expand_contractions(text))\n",
    "data_df = data_df.filter([\"sentiment\", \"class\", \"text\", \"processed_text\"])\n",
    "data_df"
   ]
  },
  {
   "cell_type": "code",
   "execution_count": 15,
   "id": "d6203961-1344-4a9c-8990-49f5c866ce04",
   "metadata": {},
   "outputs": [
    {
     "data": {
      "text/plain": [
       "'axie will fail because it is just a mediocre game coin and there are far more game companies that make better games. mana because have you actually experienced decentraland? it is buggy and there are better tech companies that can create so much better stable metaverse than mana. '"
      ]
     },
     "execution_count": 15,
     "metadata": {},
     "output_type": "execute_result"
    }
   ],
   "source": [
    "data_df[\"processed_text\"][100]"
   ]
  },
  {
   "cell_type": "raw",
   "id": "fdbc598a-4aee-4a45-9063-bc3ffab70a6d",
   "metadata": {},
   "source": [
    "data_df.to_csv(\"../data/reddit_processed_dl_data.csv\", index=False)"
   ]
  },
  {
   "cell_type": "code",
   "execution_count": 16,
   "id": "7b031618-04de-426a-aed0-ae6ff3100f30",
   "metadata": {},
   "outputs": [
    {
     "data": {
      "text/plain": [
       "POSITIVE    302\n",
       "NEGATIVE    260\n",
       "Name: sentiment, dtype: int64"
      ]
     },
     "execution_count": 16,
     "metadata": {},
     "output_type": "execute_result"
    }
   ],
   "source": [
    "data_df['sentiment'].value_counts()"
   ]
  },
  {
   "cell_type": "markdown",
   "id": "94265499-84ab-47af-9685-81a8b055be1e",
   "metadata": {},
   "source": [
    "## Importing HF Packages"
   ]
  },
  {
   "cell_type": "code",
   "execution_count": 17,
   "id": "64f9fc52-9f5d-4267-bce6-dc54f069b209",
   "metadata": {},
   "outputs": [],
   "source": [
    "import torch\n",
    "import torch.nn.functional as F\n",
    "from transformers import pipeline\n",
    "from transformers import AutoTokenizer, AutoModelForSequenceClassification\n",
    "from torchsummary import summary"
   ]
  },
  {
   "cell_type": "code",
   "execution_count": 18,
   "id": "775b005a-e0fb-4109-b47d-9ac88ff1058e",
   "metadata": {},
   "outputs": [],
   "source": [
    "import datasets\n",
    "from datasets import Dataset, DatasetDict"
   ]
  },
  {
   "cell_type": "code",
   "execution_count": 19,
   "id": "fd29becf-08e9-45ec-bd94-b39b0de27ec5",
   "metadata": {},
   "outputs": [],
   "source": [
    "from torch.utils.data import DataLoader\n",
    "import evaluate"
   ]
  },
  {
   "cell_type": "markdown",
   "id": "47ab5da0-68b1-4bde-a225-7924002ac8c0",
   "metadata": {},
   "source": [
    "## Defining Model Checkpoint Name From HF"
   ]
  },
  {
   "cell_type": "code",
   "execution_count": 20,
   "id": "edaeffed-b505-4f45-aa6c-003b85955ffb",
   "metadata": {},
   "outputs": [],
   "source": [
    "checkpoint = \"../trainer/reddit-crypto-sent-trainer/checkpoint-2400/\""
   ]
  },
  {
   "cell_type": "markdown",
   "id": "dca7de6c-c89b-4b46-a97a-103170ee982a",
   "metadata": {
    "tags": []
   },
   "source": [
    "## Preparing HF Dataset"
   ]
  },
  {
   "cell_type": "markdown",
   "id": "10443d6f-a4c1-4a5d-9546-85672e09723a",
   "metadata": {},
   "source": [
    "### Loading"
   ]
  },
  {
   "cell_type": "code",
   "execution_count": 21,
   "id": "7a44050b-c1a9-4435-a628-3a10c654f3d7",
   "metadata": {},
   "outputs": [
    {
     "data": {
      "text/plain": [
       "Dataset({\n",
       "    features: ['sentiment', 'class', 'text', 'processed_text'],\n",
       "    num_rows: 562\n",
       "})"
      ]
     },
     "execution_count": 21,
     "metadata": {},
     "output_type": "execute_result"
    }
   ],
   "source": [
    "reddit_ds = Dataset.from_pandas(data_df)\n",
    "reddit_ds"
   ]
  },
  {
   "cell_type": "code",
   "execution_count": 22,
   "id": "a4804da0-df26-4a30-a3c6-73bf0465a150",
   "metadata": {},
   "outputs": [
    {
     "data": {
      "text/plain": [
       "Dataset({\n",
       "    features: ['sentiment', 'labels', 'text', 'processed_text'],\n",
       "    num_rows: 562\n",
       "})"
      ]
     },
     "execution_count": 22,
     "metadata": {},
     "output_type": "execute_result"
    }
   ],
   "source": [
    "reddit_ds = reddit_ds.rename_column(\"class\", \"labels\")\n",
    "reddit_ds"
   ]
  },
  {
   "cell_type": "markdown",
   "id": "c549973d-7ca2-42f1-8865-181b3dd02400",
   "metadata": {},
   "source": [
    "### Tokenizing"
   ]
  },
  {
   "cell_type": "code",
   "execution_count": 23,
   "id": "949f8581-5e7b-46e0-981a-03d254d04044",
   "metadata": {},
   "outputs": [],
   "source": [
    "tokenizer = AutoTokenizer.from_pretrained(checkpoint)"
   ]
  },
  {
   "cell_type": "code",
   "execution_count": 24,
   "id": "58b0dded-7046-4f41-a389-1778933dcc5e",
   "metadata": {},
   "outputs": [],
   "source": [
    "def tokenize_function(examples):\n",
    "    return tokenizer(examples[\"processed_text\"], padding=\"max_length\", truncation=True, return_tensors=\"pt\")"
   ]
  },
  {
   "cell_type": "code",
   "execution_count": 25,
   "id": "5fdcfc3d-f50a-404b-b67a-a78d6990e28e",
   "metadata": {},
   "outputs": [
    {
     "data": {
      "application/vnd.jupyter.widget-view+json": {
       "model_id": "241e140310b74a8ba935486a8a421872",
       "version_major": 2,
       "version_minor": 0
      },
      "text/plain": [
       "  0%|          | 0/1 [00:00<?, ?ba/s]"
      ]
     },
     "metadata": {},
     "output_type": "display_data"
    }
   ],
   "source": [
    "tokenized_reddit_ds = reddit_ds.map(tokenize_function, batched=True)"
   ]
  },
  {
   "cell_type": "code",
   "execution_count": 26,
   "id": "feedfab7-a0e4-4a2d-b080-35954da72f71",
   "metadata": {},
   "outputs": [
    {
     "data": {
      "text/plain": [
       "Dataset({\n",
       "    features: ['sentiment', 'labels', 'text', 'processed_text', 'input_ids', 'attention_mask'],\n",
       "    num_rows: 562\n",
       "})"
      ]
     },
     "execution_count": 26,
     "metadata": {},
     "output_type": "execute_result"
    }
   ],
   "source": [
    "tokenized_reddit_ds"
   ]
  },
  {
   "cell_type": "code",
   "execution_count": 27,
   "id": "30b08400-ddc0-4661-8cbc-5489cfc49bb7",
   "metadata": {},
   "outputs": [
    {
     "data": {
      "text/plain": [
       "Dataset({\n",
       "    features: ['labels', 'input_ids', 'attention_mask'],\n",
       "    num_rows: 562\n",
       "})"
      ]
     },
     "execution_count": 27,
     "metadata": {},
     "output_type": "execute_result"
    }
   ],
   "source": [
    "tokenized_mini_reddit_ds = tokenized_reddit_ds.remove_columns([\"sentiment\", \"text\", \"processed_text\"])\n",
    "tokenized_mini_reddit_ds"
   ]
  },
  {
   "cell_type": "code",
   "execution_count": 28,
   "id": "540e0a4d-4680-4956-848c-c1cc018da4d2",
   "metadata": {},
   "outputs": [
    {
     "data": {
      "text/plain": [
       "Dataset({\n",
       "    features: ['labels', 'input_ids', 'attention_mask'],\n",
       "    num_rows: 562\n",
       "})"
      ]
     },
     "execution_count": 28,
     "metadata": {},
     "output_type": "execute_result"
    }
   ],
   "source": [
    "tokenized_mini_reddit_ds.set_format(\"torch\")\n",
    "tokenized_mini_reddit_ds"
   ]
  },
  {
   "cell_type": "markdown",
   "id": "0a871842-deea-415f-a306-d292118d3e2f",
   "metadata": {},
   "source": [
    "### Defining DataLoader for efficient Batching"
   ]
  },
  {
   "cell_type": "code",
   "execution_count": 29,
   "id": "c23ac9b9-4cd1-4425-8c89-aceee5cb2e8f",
   "metadata": {},
   "outputs": [],
   "source": [
    "reddit_dataloader = DataLoader(tokenized_mini_reddit_ds, batch_size=64)"
   ]
  },
  {
   "cell_type": "markdown",
   "id": "1f6fd1d3-4336-49b0-a782-1ebfdacfc721",
   "metadata": {},
   "source": [
    "## Defining Evaluation Metrics"
   ]
  },
  {
   "cell_type": "code",
   "execution_count": 30,
   "id": "ad724031-fd2c-45d8-9771-1a856fea38c6",
   "metadata": {},
   "outputs": [],
   "source": [
    "metric = evaluate.combine([\"accuracy\", \"precision\", \"recall\", \"f1\"])"
   ]
  },
  {
   "cell_type": "markdown",
   "id": "c30644ec-9943-4447-b042-add3f31d2af9",
   "metadata": {},
   "source": [
    "## Loading HF Model"
   ]
  },
  {
   "cell_type": "code",
   "execution_count": 31,
   "id": "b54e6c93-b2e5-4abb-87c2-56ab7b63b92b",
   "metadata": {},
   "outputs": [
    {
     "data": {
      "text/plain": [
       "device(type='cuda')"
      ]
     },
     "execution_count": 31,
     "metadata": {},
     "output_type": "execute_result"
    }
   ],
   "source": [
    "device = torch.device(\"cuda\") if torch.cuda.is_available() else torch.device(\"cpu\")\n",
    "device"
   ]
  },
  {
   "cell_type": "code",
   "execution_count": 32,
   "id": "c30421a7-bf68-4321-81ce-8e838f1b6516",
   "metadata": {},
   "outputs": [],
   "source": [
    "model = AutoModelForSequenceClassification.from_pretrained(checkpoint)"
   ]
  },
  {
   "cell_type": "code",
   "execution_count": 33,
   "id": "797abb3d-7ac8-4d03-ac5d-9479c0bacf3a",
   "metadata": {},
   "outputs": [
    {
     "name": "stdout",
     "output_type": "stream",
     "text": [
      "======================================================================\n",
      "Layer (type:depth-idx)                        Param #\n",
      "======================================================================\n",
      "├─DistilBertModel: 1-1                        --\n",
      "|    └─Embeddings: 2-1                        --\n",
      "|    |    └─Embedding: 3-1                    23,440,896\n",
      "|    |    └─Embedding: 3-2                    393,216\n",
      "|    |    └─LayerNorm: 3-3                    1,536\n",
      "|    |    └─Dropout: 3-4                      --\n",
      "|    └─Transformer: 2-2                       --\n",
      "|    |    └─ModuleList: 3-5                   42,527,232\n",
      "├─Linear: 1-2                                 590,592\n",
      "├─Linear: 1-3                                 1,538\n",
      "├─Dropout: 1-4                                --\n",
      "======================================================================\n",
      "Total params: 66,955,010\n",
      "Trainable params: 66,955,010\n",
      "Non-trainable params: 0\n",
      "======================================================================\n"
     ]
    },
    {
     "data": {
      "text/plain": [
       "======================================================================\n",
       "Layer (type:depth-idx)                        Param #\n",
       "======================================================================\n",
       "├─DistilBertModel: 1-1                        --\n",
       "|    └─Embeddings: 2-1                        --\n",
       "|    |    └─Embedding: 3-1                    23,440,896\n",
       "|    |    └─Embedding: 3-2                    393,216\n",
       "|    |    └─LayerNorm: 3-3                    1,536\n",
       "|    |    └─Dropout: 3-4                      --\n",
       "|    └─Transformer: 2-2                       --\n",
       "|    |    └─ModuleList: 3-5                   42,527,232\n",
       "├─Linear: 1-2                                 590,592\n",
       "├─Linear: 1-3                                 1,538\n",
       "├─Dropout: 1-4                                --\n",
       "======================================================================\n",
       "Total params: 66,955,010\n",
       "Trainable params: 66,955,010\n",
       "Non-trainable params: 0\n",
       "======================================================================"
      ]
     },
     "execution_count": 33,
     "metadata": {},
     "output_type": "execute_result"
    }
   ],
   "source": [
    "model.to(device)\n",
    "summary(model)"
   ]
  },
  {
   "cell_type": "markdown",
   "id": "c0078b09-4367-46d0-9628-1a89d1c4d5d3",
   "metadata": {},
   "source": [
    "## Evaluation Loop"
   ]
  },
  {
   "cell_type": "code",
   "execution_count": 34,
   "id": "5b4ed130-2394-46dc-92c5-e37ad8bc38bf",
   "metadata": {},
   "outputs": [
    {
     "name": "stdout",
     "output_type": "stream",
     "text": [
      "CPU times: total: 6.39 s\n",
      "Wall time: 6.58 s\n"
     ]
    },
    {
     "data": {
      "text/plain": [
       "{'accuracy': 0.8523131672597865,\n",
       " 'precision': 0.8869257950530035,\n",
       " 'recall': 0.8311258278145696,\n",
       " 'f1': 0.8581196581196582}"
      ]
     },
     "execution_count": 34,
     "metadata": {},
     "output_type": "execute_result"
    }
   ],
   "source": [
    "%%time\n",
    "\n",
    "y_preds = []\n",
    "y_trues = []\n",
    "\n",
    "model.eval()\n",
    "for batch in reddit_dataloader:\n",
    "    batch = {k: v.to(device) for k, v in batch.items()}\n",
    "    with torch.no_grad():\n",
    "        outputs = model(**batch)\n",
    "    logits = outputs.logits\n",
    "    predictions = F.softmax(logits, dim=1)\n",
    "    y_pred = torch.argmax(predictions, dim=-1)\n",
    "    metric.add_batch(predictions=y_pred, references=batch[\"labels\"])\n",
    "    y_preds.extend(y_pred.cpu().numpy())\n",
    "    y_trues.extend(batch[\"labels\"].cpu().numpy())\n",
    "    \n",
    "metric.compute()"
   ]
  },
  {
   "cell_type": "markdown",
   "id": "ba6b3639-0957-4be7-bd03-d6e405c6c5a5",
   "metadata": {},
   "source": [
    "## Evaluation Results"
   ]
  },
  {
   "cell_type": "markdown",
   "id": "b96af895-2021-4d63-b985-0da0eb543987",
   "metadata": {},
   "source": [
    "### Classification Report -SkLearn"
   ]
  },
  {
   "cell_type": "code",
   "execution_count": 35,
   "id": "d30ef5e3-0f5b-447e-8f18-e3947b9504cc",
   "metadata": {},
   "outputs": [
    {
     "name": "stdout",
     "output_type": "stream",
     "text": [
      "              precision    recall  f1-score   support\n",
      "\n",
      "           0       0.82      0.88      0.85       260\n",
      "           1       0.89      0.83      0.86       302\n",
      "\n",
      "    accuracy                           0.85       562\n",
      "   macro avg       0.85      0.85      0.85       562\n",
      "weighted avg       0.85      0.85      0.85       562\n",
      "\n"
     ]
    }
   ],
   "source": [
    "cls_report = metrics.classification_report(y_true=y_trues, y_pred=y_preds)\n",
    "print(cls_report)"
   ]
  },
  {
   "cell_type": "markdown",
   "id": "7793200f-22b3-4b06-bd58-59e560d31d95",
   "metadata": {},
   "source": [
    "### Confusion Matrix - SkLearn"
   ]
  },
  {
   "cell_type": "code",
   "execution_count": 36,
   "id": "199bfda7-eaec-40a4-bd63-2fcf5f5571b3",
   "metadata": {},
   "outputs": [
    {
     "name": "stdout",
     "output_type": "stream",
     "text": [
      "Number of misclassified points - 14.77 %\n"
     ]
    },
    {
     "data": {
      "image/png": "[encoded data removed]",
      "text/plain": [
       "<Figure size 2000x400 with 6 Axes>"
      ]
     },
     "metadata": {},
     "output_type": "display_data"
    }
   ],
   "source": [
    "plot_confusion_matrix(test_y=y_trues, predict_y=y_preds)"
   ]
  },
  {
   "cell_type": "raw",
   "id": "c90de332-599d-482a-81c1-9eb3f051c001",
   "metadata": {},
   "source": []
  }
 ],
 "metadata": {
  "kernelspec": {
   "display_name": "Python 3 (ipykernel)",
   "language": "python",
   "name": "python3"
  },
  "language_info": {
   "codemirror_mode": {
    "name": "ipython",
    "version": 3
   },
   "file_extension": ".py",
   "mimetype": "text/x-python",
   "name": "python",
   "nbconvert_exporter": "python",
   "pygments_lexer": "ipython3",
   "version": "3.9.0"
  }
 },
 "nbformat": 4,
 "nbformat_minor": 5
}
