{
 "cells": [
  {
   "cell_type": "markdown",
   "id": "8be2fd1f-388d-4065-8f13-e5f98b41e497",
   "metadata": {},
   "source": [
    "# StockTwits-Crypto Dataset"
   ]
  },
  {
   "cell_type": "markdown",
   "id": "97ab0dd7-ef4f-4dd1-92b5-ddafc505fa52",
   "metadata": {},
   "source": [
    "## Idea\n",
    "- As discussed earlier while exploraing classical ML approach, using external dataset from similar domain to fine tune to large language model on binary classification.\n",
    "- This perticular dataset contains all cryptocurrency-related posts from the StockTwits website, from 1st of November 2021 to the 15th of June 2022. \n",
    "- There are total __1.3 MN__ tweets collected over above mentioned period. \n",
    "- Though, the labeling process has been unkown, I thought of giving it a shot to fine tune the model using it.\n",
    "\n",
    "Reference - https://huggingface.co/datasets/ElKulako/stocktwits-crypto"
   ]
  },
  {
   "cell_type": "markdown",
   "id": "94dda326-b2c5-4528-929b-bf7fddeb9d4e",
   "metadata": {},
   "source": [
    "## Data Description\n",
    "\n",
    "- Stats, \n",
    "    - The dataset holds __1.3 MN tweets__ annotated with __3__ labels:\n",
    "    - Sentiments: __Bearish, Bullish, Neutral__\n",
    "- I've hypothesize that Bearish correlates to Negative Sentiment & Bullish correlates to Positive Sentiment. \n",
    "- So after dropping tweets with Neutral label from the dataset and mapping Bearish to Negative as well as Bullish to Positive class,\n",
    "    - No. of __Negative__ Samples - __124,451__\n",
    "    - No. of __Positive__ Samples - __676,701__"
   ]
  },
  {
   "cell_type": "code",
   "execution_count": 1,
   "id": "c1f24874-924c-4ae1-a694-eef3fe29d9b9",
   "metadata": {},
   "outputs": [],
   "source": [
    "import pandas as pd\n",
    "import numpy as np"
   ]
  },
  {
   "cell_type": "markdown",
   "id": "a5cf1505-ff43-4164-8efc-1bb863255413",
   "metadata": {},
   "source": [
    "## Loading Dataset"
   ]
  },
  {
   "cell_type": "code",
   "execution_count": 4,
   "id": "37aa3ff4-60c7-4938-ab0c-7180c8dda849",
   "metadata": {},
   "outputs": [],
   "source": [
    "data1_df = pd.read_excel(\"../data/stocktwits-crypto/st-data-full.xlsx\", sheet_name=\"stocktwits_1\")\n",
    "data2_df = pd.read_excel(\"../data/stocktwits-crypto/st-data-full.xlsx\", sheet_name=\"stocktwits_2\")"
   ]
  },
  {
   "cell_type": "code",
   "execution_count": 8,
   "id": "8e9e00fb-2ee7-4f96-88ac-7516a8a4ffa1",
   "metadata": {},
   "outputs": [
    {
     "data": {
      "text/html": [
       "<div>\n",
       "<style scoped>\n",
       "    .dataframe tbody tr th:only-of-type {\n",
       "        vertical-align: middle;\n",
       "    }\n",
       "\n",
       "    .dataframe tbody tr th {\n",
       "        vertical-align: top;\n",
       "    }\n",
       "\n",
       "    .dataframe thead th {\n",
       "        text-align: right;\n",
       "    }\n",
       "</style>\n",
       "<table border=\"1\" class=\"dataframe\">\n",
       "  <thead>\n",
       "    <tr style=\"text-align: right;\">\n",
       "      <th></th>\n",
       "      <th>text</th>\n",
       "      <th>label</th>\n",
       "    </tr>\n",
       "  </thead>\n",
       "  <tbody>\n",
       "    <tr>\n",
       "      <th>0</th>\n",
       "      <td>if you were curious, price chose the lowest ch...</td>\n",
       "      <td>1</td>\n",
       "    </tr>\n",
       "    <tr>\n",
       "      <th>1</th>\n",
       "      <td>true, not even 10k followers here yet.</td>\n",
       "      <td>1</td>\n",
       "    </tr>\n",
       "    <tr>\n",
       "      <th>2</th>\n",
       "      <td>dogecoin co-founder billy markus hits back at ...</td>\n",
       "      <td>1</td>\n",
       "    </tr>\n",
       "    <tr>\n",
       "      <th>3</th>\n",
       "      <td>i’m curious, do any bulls have a price where ...</td>\n",
       "      <td>1</td>\n",
       "    </tr>\n",
       "    <tr>\n",
       "      <th>4</th>\n",
       "      <td>friday everybody buy 10 more on friday</td>\n",
       "      <td>2</td>\n",
       "    </tr>\n",
       "    <tr>\n",
       "      <th>...</th>\n",
       "      <td>...</td>\n",
       "      <td>...</td>\n",
       "    </tr>\n",
       "    <tr>\n",
       "      <th>731692</th>\n",
       "      <td>i tried well now the haters are -45% or liquid...</td>\n",
       "      <td>0</td>\n",
       "    </tr>\n",
       "    <tr>\n",
       "      <th>731693</th>\n",
       "      <td>i'd be pretty happy if bitcoin ended the year...</td>\n",
       "      <td>2</td>\n",
       "    </tr>\n",
       "    <tr>\n",
       "      <th>731694</th>\n",
       "      <td>will jump to 88 000 in no time 😬✈️✈️✈️</td>\n",
       "      <td>2</td>\n",
       "    </tr>\n",
       "    <tr>\n",
       "      <th>731695</th>\n",
       "      <td>set it and forget it, i’ll see you guys at 😉😉</td>\n",
       "      <td>2</td>\n",
       "    </tr>\n",
       "    <tr>\n",
       "      <th>731696</th>\n",
       "      <td>man did this came to life 🥲😜</td>\n",
       "      <td>1</td>\n",
       "    </tr>\n",
       "  </tbody>\n",
       "</table>\n",
       "<p>1331697 rows × 2 columns</p>\n",
       "</div>"
      ],
      "text/plain": [
       "                                                     text  label\n",
       "0       if you were curious, price chose the lowest ch...      1\n",
       "1                  true, not even 10k followers here yet.      1\n",
       "2       dogecoin co-founder billy markus hits back at ...      1\n",
       "3        i’m curious, do any bulls have a price where ...      1\n",
       "4                  friday everybody buy 10 more on friday      2\n",
       "...                                                   ...    ...\n",
       "731692  i tried well now the haters are -45% or liquid...      0\n",
       "731693   i'd be pretty happy if bitcoin ended the year...      2\n",
       "731694             will jump to 88 000 in no time 😬✈️✈️✈️      2\n",
       "731695      set it and forget it, i’ll see you guys at 😉😉      2\n",
       "731696                       man did this came to life 🥲😜      1\n",
       "\n",
       "[1331697 rows x 2 columns]"
      ]
     },
     "execution_count": 8,
     "metadata": {},
     "output_type": "execute_result"
    }
   ],
   "source": [
    "data_df = pd.concat([data1_df, data2_df], axis=0)\n",
    "data_df"
   ]
  },
  {
   "cell_type": "code",
   "execution_count": 9,
   "id": "6c9edea8-902a-4003-a24f-b7737c5c232b",
   "metadata": {},
   "outputs": [
    {
     "data": {
      "text/plain": [
       "2    676701\n",
       "1    530545\n",
       "0    124451\n",
       "Name: label, dtype: int64"
      ]
     },
     "execution_count": 9,
     "metadata": {},
     "output_type": "execute_result"
    }
   ],
   "source": [
    "data_df['label'].value_counts()"
   ]
  },
  {
   "cell_type": "markdown",
   "id": "53325880-3018-4b5a-bd21-9e136433de76",
   "metadata": {},
   "source": [
    "## Filtering Postive and Negative Labels"
   ]
  },
  {
   "cell_type": "code",
   "execution_count": 10,
   "id": "5d34796c-1146-444d-8a61-17259f7e4e97",
   "metadata": {},
   "outputs": [
    {
     "data": {
      "text/plain": [
       "2    676701\n",
       "0    124451\n",
       "Name: label, dtype: int64"
      ]
     },
     "execution_count": 10,
     "metadata": {},
     "output_type": "execute_result"
    }
   ],
   "source": [
    "data_df = data_df[data_df['label'].isin([0, 2])]\n",
    "data_df['label'].value_counts()"
   ]
  },
  {
   "cell_type": "code",
   "execution_count": 12,
   "id": "c25ee5e9-c230-4df4-a4b1-ed88643521c0",
   "metadata": {},
   "outputs": [
    {
     "name": "stderr",
     "output_type": "stream",
     "text": [
      "C:\\Users\\darsh\\AppData\\Local\\Temp\\ipykernel_28396\\3129082955.py:1: SettingWithCopyWarning: \n",
      "A value is trying to be set on a copy of a slice from a DataFrame.\n",
      "Try using .loc[row_indexer,col_indexer] = value instead\n",
      "\n",
      "See the caveats in the documentation: https://pandas.pydata.org/pandas-docs/stable/user_guide/indexing.html#returning-a-view-versus-a-copy\n",
      "  data_df['text_len'] = data_df['text'].astype(str).apply(lambda x: len(x))\n"
     ]
    }
   ],
   "source": [
    "data_df['text_len'] = data_df['text'].astype(str).apply(lambda x: len(x))"
   ]
  },
  {
   "cell_type": "markdown",
   "id": "6624ae6b-ed34-4c90-95e0-be2386dda0cd",
   "metadata": {},
   "source": [
    "## Inspecting Distribution of Sequence Length"
   ]
  },
  {
   "cell_type": "code",
   "execution_count": 14,
   "id": "c8d29f28-cc70-46bf-96b8-b68962cf49c0",
   "metadata": {},
   "outputs": [
    {
     "data": {
      "text/html": [
       "<div>\n",
       "<style scoped>\n",
       "    .dataframe tbody tr th:only-of-type {\n",
       "        vertical-align: middle;\n",
       "    }\n",
       "\n",
       "    .dataframe tbody tr th {\n",
       "        vertical-align: top;\n",
       "    }\n",
       "\n",
       "    .dataframe thead th {\n",
       "        text-align: right;\n",
       "    }\n",
       "</style>\n",
       "<table border=\"1\" class=\"dataframe\">\n",
       "  <thead>\n",
       "    <tr style=\"text-align: right;\">\n",
       "      <th></th>\n",
       "      <th>label</th>\n",
       "      <th>text_len</th>\n",
       "    </tr>\n",
       "  </thead>\n",
       "  <tbody>\n",
       "    <tr>\n",
       "      <th>count</th>\n",
       "      <td>801152.000000</td>\n",
       "      <td>801152.000000</td>\n",
       "    </tr>\n",
       "    <tr>\n",
       "      <th>mean</th>\n",
       "      <td>1.689320</td>\n",
       "      <td>75.838547</td>\n",
       "    </tr>\n",
       "    <tr>\n",
       "      <th>std</th>\n",
       "      <td>0.724458</td>\n",
       "      <td>78.228417</td>\n",
       "    </tr>\n",
       "    <tr>\n",
       "      <th>min</th>\n",
       "      <td>0.000000</td>\n",
       "      <td>1.000000</td>\n",
       "    </tr>\n",
       "    <tr>\n",
       "      <th>25%</th>\n",
       "      <td>2.000000</td>\n",
       "      <td>32.000000</td>\n",
       "    </tr>\n",
       "    <tr>\n",
       "      <th>50%</th>\n",
       "      <td>2.000000</td>\n",
       "      <td>51.000000</td>\n",
       "    </tr>\n",
       "    <tr>\n",
       "      <th>75%</th>\n",
       "      <td>2.000000</td>\n",
       "      <td>89.000000</td>\n",
       "    </tr>\n",
       "    <tr>\n",
       "      <th>max</th>\n",
       "      <td>2.000000</td>\n",
       "      <td>1007.000000</td>\n",
       "    </tr>\n",
       "  </tbody>\n",
       "</table>\n",
       "</div>"
      ],
      "text/plain": [
       "               label       text_len\n",
       "count  801152.000000  801152.000000\n",
       "mean        1.689320      75.838547\n",
       "std         0.724458      78.228417\n",
       "min         0.000000       1.000000\n",
       "25%         2.000000      32.000000\n",
       "50%         2.000000      51.000000\n",
       "75%         2.000000      89.000000\n",
       "max         2.000000    1007.000000"
      ]
     },
     "execution_count": 14,
     "metadata": {},
     "output_type": "execute_result"
    }
   ],
   "source": [
    "data_df.describe()"
   ]
  },
  {
   "cell_type": "markdown",
   "id": "45047f52-fb41-4e09-b3a0-d40840a11258",
   "metadata": {},
   "source": [
    "## Sample Final Set of 100,000 samples,\n",
    "\n",
    "- equally distributed across both the class (50k each)"
   ]
  },
  {
   "cell_type": "code",
   "execution_count": 15,
   "id": "4a4707dd-06bd-4db6-8931-64727760cb07",
   "metadata": {},
   "outputs": [],
   "source": [
    "sampled_df = data_df.groupby('label').apply(lambda x: x.sample(50000, random_state=42))"
   ]
  },
  {
   "cell_type": "code",
   "execution_count": 18,
   "id": "93a5ca1f-fb7a-4d63-89fb-408a351c8d65",
   "metadata": {},
   "outputs": [],
   "source": [
    "sampled_df.reset_index(drop=True, inplace=True)"
   ]
  },
  {
   "cell_type": "code",
   "execution_count": 19,
   "id": "02f66abc-5f19-4a9b-9fd8-1f1ff2cf21c4",
   "metadata": {},
   "outputs": [
    {
     "data": {
      "text/html": [
       "<div>\n",
       "<style scoped>\n",
       "    .dataframe tbody tr th:only-of-type {\n",
       "        vertical-align: middle;\n",
       "    }\n",
       "\n",
       "    .dataframe tbody tr th {\n",
       "        vertical-align: top;\n",
       "    }\n",
       "\n",
       "    .dataframe thead th {\n",
       "        text-align: right;\n",
       "    }\n",
       "</style>\n",
       "<table border=\"1\" class=\"dataframe\">\n",
       "  <thead>\n",
       "    <tr style=\"text-align: right;\">\n",
       "      <th></th>\n",
       "      <th>text</th>\n",
       "      <th>label</th>\n",
       "      <th>text_len</th>\n",
       "    </tr>\n",
       "  </thead>\n",
       "  <tbody>\n",
       "    <tr>\n",
       "      <th>0</th>\n",
       "      <td>7 ways to short bitcoins bear</td>\n",
       "      <td>0</td>\n",
       "      <td>30</td>\n",
       "    </tr>\n",
       "    <tr>\n",
       "      <th>1</th>\n",
       "      <td>yahoo shows bitty 30k</td>\n",
       "      <td>0</td>\n",
       "      <td>22</td>\n",
       "    </tr>\n",
       "    <tr>\n",
       "      <th>2</th>\n",
       "      <td>can anyone instruct me how to short shib?</td>\n",
       "      <td>0</td>\n",
       "      <td>42</td>\n",
       "    </tr>\n",
       "    <tr>\n",
       "      <th>3</th>\n",
       "      <td>bulls need to learn what bearish flags look l...</td>\n",
       "      <td>0</td>\n",
       "      <td>93</td>\n",
       "    </tr>\n",
       "    <tr>\n",
       "      <th>4</th>\n",
       "      <td>all the solid alt coins at breaching ath's. st...</td>\n",
       "      <td>0</td>\n",
       "      <td>100</td>\n",
       "    </tr>\n",
       "    <tr>\n",
       "      <th>...</th>\n",
       "      <td>...</td>\n",
       "      <td>...</td>\n",
       "      <td>...</td>\n",
       "    </tr>\n",
       "    <tr>\n",
       "      <th>99995</th>\n",
       "      <td>another bare flag daaam pick me up at 65k boy...</td>\n",
       "      <td>2</td>\n",
       "      <td>55</td>\n",
       "    </tr>\n",
       "    <tr>\n",
       "      <th>99996</th>\n",
       "      <td>the bears have hopes</td>\n",
       "      <td>2</td>\n",
       "      <td>21</td>\n",
       "    </tr>\n",
       "    <tr>\n",
       "      <th>99997</th>\n",
       "      <td>who has cool nft shiba images😁</td>\n",
       "      <td>2</td>\n",
       "      <td>32</td>\n",
       "    </tr>\n",
       "    <tr>\n",
       "      <th>99998</th>\n",
       "      <td>nice slow recovery i’ll take it</td>\n",
       "      <td>2</td>\n",
       "      <td>32</td>\n",
       "    </tr>\n",
       "    <tr>\n",
       "      <th>99999</th>\n",
       "      <td>41,800k resistance next big one</td>\n",
       "      <td>2</td>\n",
       "      <td>33</td>\n",
       "    </tr>\n",
       "  </tbody>\n",
       "</table>\n",
       "<p>100000 rows × 3 columns</p>\n",
       "</div>"
      ],
      "text/plain": [
       "                                                    text  label  text_len\n",
       "0                          7 ways to short bitcoins bear      0        30\n",
       "1                                  yahoo shows bitty 30k      0        22\n",
       "2              can anyone instruct me how to short shib?      0        42\n",
       "3       bulls need to learn what bearish flags look l...      0        93\n",
       "4      all the solid alt coins at breaching ath's. st...      0       100\n",
       "...                                                  ...    ...       ...\n",
       "99995   another bare flag daaam pick me up at 65k boy...      2        55\n",
       "99996                               the bears have hopes      2        21\n",
       "99997                     who has cool nft shiba images😁      2        32\n",
       "99998                    nice slow recovery i’ll take it      2        32\n",
       "99999                   41,800k resistance next big one       2        33\n",
       "\n",
       "[100000 rows x 3 columns]"
      ]
     },
     "execution_count": 19,
     "metadata": {},
     "output_type": "execute_result"
    }
   ],
   "source": [
    "sampled_df"
   ]
  },
  {
   "cell_type": "code",
   "execution_count": 20,
   "id": "f683f44a-9938-4c70-82a9-9488c6ec49dc",
   "metadata": {},
   "outputs": [
    {
     "data": {
      "text/plain": [
       "0    50000\n",
       "2    50000\n",
       "Name: label, dtype: int64"
      ]
     },
     "execution_count": 20,
     "metadata": {},
     "output_type": "execute_result"
    }
   ],
   "source": [
    "sampled_df[\"label\"].value_counts()"
   ]
  },
  {
   "cell_type": "markdown",
   "id": "6576f904-8927-4ea3-b1ab-74b371f99841",
   "metadata": {},
   "source": [
    "## Saving dataset on Disk"
   ]
  },
  {
   "cell_type": "code",
   "execution_count": 21,
   "id": "f91d348e-133d-4f1a-a819-449e3316eec6",
   "metadata": {},
   "outputs": [],
   "source": [
    "sampled_df.to_csv(\"../data/stocktwits-crypto/st-data-mini.csv\", index=False)"
   ]
  },
  {
   "cell_type": "code",
   "execution_count": 23,
   "id": "16564e7f-30bf-4d3d-a52a-1ff49ddc57dd",
   "metadata": {},
   "outputs": [
    {
     "data": {
      "text/html": [
       "<div>\n",
       "<style scoped>\n",
       "    .dataframe tbody tr th:only-of-type {\n",
       "        vertical-align: middle;\n",
       "    }\n",
       "\n",
       "    .dataframe tbody tr th {\n",
       "        vertical-align: top;\n",
       "    }\n",
       "\n",
       "    .dataframe thead th {\n",
       "        text-align: right;\n",
       "    }\n",
       "</style>\n",
       "<table border=\"1\" class=\"dataframe\">\n",
       "  <thead>\n",
       "    <tr style=\"text-align: right;\">\n",
       "      <th></th>\n",
       "      <th>label</th>\n",
       "      <th>text_len</th>\n",
       "    </tr>\n",
       "  </thead>\n",
       "  <tbody>\n",
       "    <tr>\n",
       "      <th>count</th>\n",
       "      <td>100000.000000</td>\n",
       "      <td>100000.000000</td>\n",
       "    </tr>\n",
       "    <tr>\n",
       "      <th>mean</th>\n",
       "      <td>1.000000</td>\n",
       "      <td>74.583980</td>\n",
       "    </tr>\n",
       "    <tr>\n",
       "      <th>std</th>\n",
       "      <td>1.000005</td>\n",
       "      <td>74.295816</td>\n",
       "    </tr>\n",
       "    <tr>\n",
       "      <th>min</th>\n",
       "      <td>0.000000</td>\n",
       "      <td>1.000000</td>\n",
       "    </tr>\n",
       "    <tr>\n",
       "      <th>25%</th>\n",
       "      <td>0.000000</td>\n",
       "      <td>32.000000</td>\n",
       "    </tr>\n",
       "    <tr>\n",
       "      <th>50%</th>\n",
       "      <td>1.000000</td>\n",
       "      <td>52.000000</td>\n",
       "    </tr>\n",
       "    <tr>\n",
       "      <th>75%</th>\n",
       "      <td>2.000000</td>\n",
       "      <td>88.000000</td>\n",
       "    </tr>\n",
       "    <tr>\n",
       "      <th>max</th>\n",
       "      <td>2.000000</td>\n",
       "      <td>993.000000</td>\n",
       "    </tr>\n",
       "  </tbody>\n",
       "</table>\n",
       "</div>"
      ],
      "text/plain": [
       "               label       text_len\n",
       "count  100000.000000  100000.000000\n",
       "mean        1.000000      74.583980\n",
       "std         1.000005      74.295816\n",
       "min         0.000000       1.000000\n",
       "25%         0.000000      32.000000\n",
       "50%         1.000000      52.000000\n",
       "75%         2.000000      88.000000\n",
       "max         2.000000     993.000000"
      ]
     },
     "execution_count": 23,
     "metadata": {},
     "output_type": "execute_result"
    }
   ],
   "source": [
    "sampled_df.describe()"
   ]
  },
  {
   "cell_type": "code",
   "execution_count": null,
   "id": "0833fb23-cb80-4b80-8f7d-197ff87ad908",
   "metadata": {},
   "outputs": [],
   "source": []
  }
 ],
 "metadata": {
  "kernelspec": {
   "display_name": "Python 3 (ipykernel)",
   "language": "python",
   "name": "python3"
  },
  "language_info": {
   "codemirror_mode": {
    "name": "ipython",
    "version": 3
   },
   "file_extension": ".py",
   "mimetype": "text/x-python",
   "name": "python",
   "nbconvert_exporter": "python",
   "pygments_lexer": "ipython3",
   "version": "3.9.0"
  }
 },
 "nbformat": 4,
 "nbformat_minor": 5
}
